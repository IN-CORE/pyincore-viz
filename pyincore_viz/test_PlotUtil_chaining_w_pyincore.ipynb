{
 "cells": [
  {
   "cell_type": "code",
   "execution_count": null,
   "metadata": {},
   "outputs": [],
   "source": [
    "from pyincore_viz import PlotUtil\n",
    "from pyincore import IncoreClient, Dataset\n",
    "from pyincore.analyses.bridgedamage import BridgeDamage\n",
    "from pyincore.analyses.meandamage import MeanDamage\n",
    "import json"
   ]
  },
  {
   "cell_type": "markdown",
   "metadata": {},
   "source": [
    "### bridge damage analysis"
   ]
  },
  {
   "cell_type": "code",
   "execution_count": null,
   "metadata": {},
   "outputs": [],
   "source": [
    "client = IncoreClient()\n",
    "\n",
    "# New madrid earthquake using Atkinson Boore 1995\n",
    "hazard_type = \"earthquake\"\n",
    "hazard_id = \"5b902cb273c3371e1236b36b\"\n",
    "\n",
    "# NBSR bridges\n",
    "bridge_dataset_id = \"5a284f2dc7d30d13bc082040\"\n",
    "\n",
    "# Default Bridge Fragility Mapping on incore-service\n",
    "mapping_id = \"5b47bcce337d4a37755e0cb2\"\n",
    "\n",
    "# Use hazard uncertainty for computing damage\n",
    "use_hazard_uncertainty = False\n",
    "# Use liquefaction (LIQ) column of bridges to modify fragility curve\n",
    "use_liquefaction = False\n",
    "\n",
    "# Create bridge damage\n",
    "bridge_dmg = BridgeDamage(client)\n",
    "# Load input datasets\n",
    "bridge_dmg.load_remote_input_dataset(\"bridges\", bridge_dataset_id)\n",
    "# Specify the result name\n",
    "result_name = \"bridge_result\"\n",
    "# Set analysis parameters\n",
    "bridge_dmg.set_parameter(\"result_name\", result_name)\n",
    "bridge_dmg.set_parameter(\"mapping_id\", mapping_id)\n",
    "bridge_dmg.set_parameter(\"hazard_type\", hazard_type)\n",
    "bridge_dmg.set_parameter(\"hazard_id\", hazard_id)\n",
    "bridge_dmg.set_parameter(\"num_cpu\", 4)\n",
    "\n",
    "# Run bridge damage analysis\n",
    "bridge_dmg.run_analysis()"
   ]
  },
  {
   "cell_type": "markdown",
   "metadata": {},
   "source": [
    "### geo map"
   ]
  },
  {
   "cell_type": "code",
   "execution_count": null,
   "metadata": {},
   "outputs": [],
   "source": [
    "bridge_inventory = bridge_dmg.get_input_dataset('bridges')\n",
    "bridge_damage = bridge_dmg.get_output_dataset('result')\n",
    "bridge_damge_df = bridge_damage.get_dataframe_from_csv()"
   ]
  },
  {
   "cell_type": "code",
   "execution_count": null,
   "metadata": {},
   "outputs": [],
   "source": [
    "inventory_df = PlotUtil.inventory_to_geodataframe(bridge_inventory)\n",
    "inventory_df = PlotUtil.remove_null_inventories(inventory_df, 'guid')\n",
    "inventory_df = PlotUtil.merge_inventory_w_dmg(inventory_df, bridge_damge_df)\n",
    "inventory_df.head()"
   ]
  },
  {
   "cell_type": "code",
   "execution_count": null,
   "metadata": {},
   "outputs": [],
   "source": [
    "new_map = PlotUtil.create_geo_map(inventory_df, key='hazardval')\n",
    "new_map"
   ]
  },
  {
   "cell_type": "code",
   "execution_count": null,
   "metadata": {},
   "outputs": [],
   "source": [
    "new_map = PlotUtil.create_geo_map(inventory_df, key='ls-slight')\n",
    "new_map"
   ]
  },
  {
   "cell_type": "markdown",
   "metadata": {},
   "source": [
    "### chaining with bridge damage to calculate mean damage"
   ]
  },
  {
   "cell_type": "code",
   "execution_count": null,
   "metadata": {},
   "outputs": [],
   "source": [
    "md = MeanDamage(client)\n",
    "md.set_input_dataset(\"damage\", bridge_damage)\n",
    "md.load_remote_input_dataset(\"dmg_ratios\", \"5a284f2cc7d30d13bc081f96\")\n",
    "md.set_parameter(\"result_name\", \"bridge_mean_damage\")\n",
    "md.set_parameter(\"damage_interval_keys\",\n",
    "                 [\"none\", \"ds-slight\", \"ds-moderat\", \"ds-extensi\",\n",
    "                  \"ds-complet\"])\n",
    "md.set_parameter(\"num_cpu\", 1)\n",
    "md.run_analysis()"
   ]
  },
  {
   "cell_type": "markdown",
   "metadata": {},
   "source": [
    "### mean damage histogram"
   ]
  },
  {
   "cell_type": "code",
   "execution_count": null,
   "metadata": {},
   "outputs": [],
   "source": [
    "mean_damage_dataset = md.get_output_dataset('result')\n",
    "fig = PlotUtil.mean_damage_histogram(mean_damage_dataset, histogram_bins=30)"
   ]
  },
  {
   "cell_type": "code",
   "execution_count": null,
   "metadata": {},
   "outputs": [],
   "source": []
  }
 ],
 "metadata": {
  "kernelspec": {
   "display_name": "Python 3",
   "language": "python",
   "name": "python3"
  },
  "language_info": {
   "codemirror_mode": {
    "name": "ipython",
    "version": 3
   },
   "file_extension": ".py",
   "mimetype": "text/x-python",
   "name": "python",
   "nbconvert_exporter": "python",
   "pygments_lexer": "ipython3",
   "version": "3.6.9"
  }
 },
 "nbformat": 4,
 "nbformat_minor": 2
}
