{
 "cells": [
  {
   "cell_type": "markdown",
   "metadata": {},
   "source": [
    "# Pyincore-viz mapping and plotting test"
   ]
  },
  {
   "cell_type": "code",
   "execution_count": null,
   "metadata": {},
   "outputs": [],
   "source": [
    "from pyincore_viz import PlotUtil, GeoUtil\n",
    "from pyincore import IncoreClient, Dataset\n",
    "from pyincore.analyses.bridgedamage import BridgeDamage\n",
    "from pyincore.analyses.buildingdamage import BuildingDamage\n",
    "from pyincore.analyses.meandamage import MeanDamage\n",
    "import os"
   ]
  },
  {
   "cell_type": "markdown",
   "metadata": {},
   "source": [
    "### create csv directory map"
   ]
  },
  {
   "cell_type": "code",
   "execution_count": null,
   "metadata": {},
   "outputs": [],
   "source": [
    "client = IncoreClient()\n",
    "\n",
    "# building inventory\n",
    "bldg_dmg = BuildingDamage(client)  # initializing pyincore\n",
    "# bldg_dataset_id = \"5df40388b9219c06cf8b0c80\"  # defining building dataset (GIS point layer)\n",
    "# bldg_dmg.load_remote_input_dataset(\"buildings\", bldg_dataset_id)  # loading in the above\n",
    "# mapping_id = \"5d2789dbb9219c3c553c7977\"  # specifiying mapping id from fragilites to building types\n",
    "bldg_dataset_id = \"5d927ab2b9219c06ae8d313c\"  # defining building dataset (GIS point layer)\n",
    "bldg_dmg.load_remote_input_dataset(\"buildings\", bldg_dataset_id)  # loading in the above\n",
    "building_dataset = bldg_dmg.get_input_dataset('buildings').get_inventory_reader()\n",
    "\n",
    "csv_dir = 'sample_data'\n",
    "csv_dir_map = GeoUtil.map_csv_from_dir(building_dataset, column='failure_probability', file_path=csv_dir)\n",
    "csv_dir_map"
   ]
  },
  {
   "cell_type": "markdown",
   "metadata": {},
   "source": [
    "### bridge damage analysis"
   ]
  },
  {
   "cell_type": "code",
   "execution_count": null,
   "metadata": {},
   "outputs": [],
   "source": [
    "# New madrid earthquake using Atkinson Boore 1995\n",
    "hazard_type = \"earthquake\"\n",
    "hazard_id = \"5b902cb273c3371e1236b36b\"\n",
    "\n",
    "# NBSR bridges\n",
    "bridge_dataset_id = \"5a284f2dc7d30d13bc082040\"\n",
    "\n",
    "# Default Bridge Fragility Mapping on incore-service\n",
    "mapping_id = \"5b47bcce337d4a37755e0cb2\"\n",
    "\n",
    "# Use hazard uncertainty for computing damage\n",
    "use_hazard_uncertainty = False\n",
    "# Use liquefaction (LIQ) column of bridges to modify fragility curve\n",
    "use_liquefaction = False\n",
    "\n",
    "# Create bridge damage\n",
    "bridge_dmg = BridgeDamage(client)\n",
    "# Load input datasets\n",
    "bridge_dmg.load_remote_input_dataset(\"bridges\", bridge_dataset_id)\n",
    "# Specify the result name\n",
    "result_name = \"bridge_result\"\n",
    "# Set analysis parameters\n",
    "bridge_dmg.set_parameter(\"result_name\", result_name)\n",
    "bridge_dmg.set_parameter(\"mapping_id\", mapping_id)\n",
    "bridge_dmg.set_parameter(\"hazard_type\", hazard_type)\n",
    "bridge_dmg.set_parameter(\"hazard_id\", hazard_id)\n",
    "bridge_dmg.set_parameter(\"num_cpu\", 4)\n",
    "\n",
    "bridge_inventory = bridge_dmg.get_input_dataset('bridges')\n"
   ]
  },
  {
   "cell_type": "markdown",
   "metadata": {},
   "source": [
    "### bridge damage"
   ]
  },
  {
   "cell_type": "code",
   "execution_count": null,
   "metadata": {},
   "outputs": [],
   "source": [
    "# Run bridge damage analysis\n",
    "bridge_dmg.run_analysis()"
   ]
  },
  {
   "cell_type": "markdown",
   "metadata": {},
   "source": [
    "### csv dir map with bridge damage\n",
    "In here, you can create a map without providing directory path. \n",
    "It will make a default work folder and file path and try to find csv file in there.\n",
    "Since the bridge damage analysis has been performed in previous step, \n",
    "there will be at least one csv file in the folder, unless it was saved in diffrenet folder."
   ]
  },
  {
   "cell_type": "code",
   "execution_count": null,
   "metadata": {},
   "outputs": [],
   "source": [
    "bridge_dmg.load_remote_input_dataset(\"bridges\", bridge_dataset_id)\n",
    "bridge_dataset = bridge_dmg.get_input_dataset('bridges').get_inventory_reader()\n",
    "csv_dir_map = GeoUtil.map_csv_from_dir(bridge_dataset, column='hazardval')\n",
    "csv_dir_map"
   ]
  },
  {
   "cell_type": "markdown",
   "metadata": {},
   "source": [
    "### geo map"
   ]
  },
  {
   "cell_type": "code",
   "execution_count": null,
   "metadata": {},
   "outputs": [],
   "source": [
    "bridge_dmg = bridge_dmg.get_output_dataset('result')\n",
    "bridge_dmg_df = bridge_dmg.get_dataframe_from_csv()\n",
    "\n",
    "inventory_df = PlotUtil.inventory_to_geodataframe(bridge_inventory)\n",
    "inventory_df = PlotUtil.remove_null_inventories(inventory_df, 'guid')\n",
    "inventory_df = PlotUtil.merge_inventory_w_dmg(inventory_df, bridge_dmg_df)\n",
    "inventory_df.head()"
   ]
  },
  {
   "cell_type": "code",
   "execution_count": null,
   "metadata": {},
   "outputs": [],
   "source": [
    "new_map = GeoUtil.create_geo_map(inventory_df, key='hazardval')\n",
    "new_map"
   ]
  },
  {
   "cell_type": "markdown",
   "metadata": {},
   "source": [
    "### chaining with bridge damage to calculate mean damage"
   ]
  },
  {
   "cell_type": "code",
   "execution_count": null,
   "metadata": {},
   "outputs": [],
   "source": [
    "md = MeanDamage(client)\n",
    "md.set_input_dataset(\"damage\", bridge_dmg)\n",
    "md.load_remote_input_dataset(\"dmg_ratios\", \"5a284f2cc7d30d13bc081f96\")\n",
    "md.set_parameter(\"result_name\", \"bridge_mean_damage\")\n",
    "md.set_parameter(\"damage_interval_keys\",\n",
    "                 [\"none\", \"ds-slight\", \"ds-moderat\", \"ds-extensi\",\n",
    "                  \"ds-complet\"])\n",
    "md.set_parameter(\"num_cpu\", 1)\n",
    "md.run_analysis()"
   ]
  },
  {
   "cell_type": "markdown",
   "metadata": {},
   "source": [
    "### mean damage histogram"
   ]
  },
  {
   "cell_type": "code",
   "execution_count": null,
   "metadata": {},
   "outputs": [],
   "source": [
    "mean_damage_dataset = md.get_output_dataset('result')\n",
    "fig = PlotUtil.mean_damage_histogram(mean_damage_dataset, histogram_bins=30)"
   ]
  },
  {
   "cell_type": "markdown",
   "metadata": {},
   "source": [
    "### histogram using csv file and column name"
   ]
  },
  {
   "cell_type": "code",
   "execution_count": null,
   "metadata": {},
   "outputs": [],
   "source": [
    "in_csv = 'sample_data/mc_failure_probability_buildings_eq_100yr.csv'\n",
    "plot_title = 'CSV histogram'\n",
    "x_title = 'x axis'\n",
    "y_title = 'y axix'\n",
    "column = 'failure_probability'\n",
    "num_bins = 30\n",
    "figure_size = (10 , 5)\n",
    "fig = PlotUtil.histogram_from_csv_with_column(plot_title, x_title, y_title, column, in_csv, num_bins, figure_size)"
   ]
  }
 ],
 "metadata": {
  "kernelspec": {
   "display_name": "Python 3",
   "language": "python",
   "name": "python3"
  },
  "language_info": {
   "codemirror_mode": {
    "name": "ipython",
    "version": 3
   },
   "file_extension": ".py",
   "mimetype": "text/x-python",
   "name": "python",
   "nbconvert_exporter": "python",
   "pygments_lexer": "ipython3",
   "version": "3.5.4"
  }
 },
 "nbformat": 4,
 "nbformat_minor": 2
}
